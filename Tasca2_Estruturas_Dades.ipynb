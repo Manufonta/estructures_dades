{
 "cells": [
  {
   "cell_type": "markdown",
   "metadata": {},
   "source": [
    "********\n",
    "# Estructuras de datos\n",
    "**********\n",
    "********"
   ]
  },
  {
   "cell_type": "markdown",
   "metadata": {},
   "source": [
    "## Ejercicio 1\n",
    "Crea una lista que agrupe los meses del año en trimestres. Es decir, una lista con 4 listas dentro."
   ]
  },
  {
   "cell_type": "code",
   "execution_count": 4,
   "metadata": {},
   "outputs": [],
   "source": [
    "T1 = [\"Enero\", \"Febrero\", \"Marzo\"]\n",
    "T2 = [\"Abril\", \"Mayo\", \"Junio\"]\n",
    "T3 = [\"Julio\", \"Agosto\", \"Septiembre\"]\n",
    "T4 = [\"Octubre\", \"Noviembre\", \"Diciembre\"]\n",
    "ano = [T1, T2, T3, T4]"
   ]
  },
  {
   "cell_type": "code",
   "execution_count": 6,
   "metadata": {},
   "outputs": [
    {
     "name": "stdout",
     "output_type": "stream",
     "text": [
      "[['Enero', 'Febrero', 'Marzo'], ['Abril', 'Mayo', 'Junio'], ['Julio', 'Agosto', 'Septiembre'], ['Octubre', 'Noviembre', 'Diciembre']]\n"
     ]
    }
   ],
   "source": [
    "print (ano)"
   ]
  },
  {
   "cell_type": "markdown",
   "metadata": {},
   "source": [
    "## Ejercicio 2\n",
    "Crea un código que te permita acceder a:"
   ]
  },
  {
   "cell_type": "markdown",
   "metadata": {},
   "source": [
    "* **El segundo mes del primer trimestre**"
   ]
  },
  {
   "cell_type": "code",
   "execution_count": 14,
   "metadata": {},
   "outputs": [
    {
     "name": "stdout",
     "output_type": "stream",
     "text": [
      "Febrero\n"
     ]
    }
   ],
   "source": [
    "print (ano [0] [1])"
   ]
  },
  {
   "cell_type": "markdown",
   "metadata": {},
   "source": [
    "* **Los meses del primer trimestre**"
   ]
  },
  {
   "cell_type": "code",
   "execution_count": 17,
   "metadata": {},
   "outputs": [
    {
     "name": "stdout",
     "output_type": "stream",
     "text": [
      "['Enero', 'Febrero', 'Marzo']\n"
     ]
    }
   ],
   "source": [
    "print (ano [0])"
   ]
  },
  {
   "cell_type": "markdown",
   "metadata": {},
   "source": [
    "* **Septiembre y Octubre**"
   ]
  },
  {
   "cell_type": "code",
   "execution_count": 24,
   "metadata": {},
   "outputs": [
    {
     "name": "stdout",
     "output_type": "stream",
     "text": [
      "Septiembre Octubre\n"
     ]
    }
   ],
   "source": [
    "print (ano[2][2],ano[3][0])"
   ]
  },
  {
   "cell_type": "markdown",
   "metadata": {},
   "source": [
    "## Ejercicio 3\n",
    "Crea una lista con números desordenados y responde a las siguientes preguntas:\n"
   ]
  },
  {
   "cell_type": "code",
   "execution_count": 27,
   "metadata": {},
   "outputs": [],
   "source": [
    "import random"
   ]
  },
  {
   "cell_type": "code",
   "execution_count": 41,
   "metadata": {},
   "outputs": [],
   "source": [
    "# Será una lista de 100 números aleatorios entre 0 y 9\n",
    "ls = [random.randint(0,9) for n in range(100)]"
   ]
  },
  {
   "cell_type": "code",
   "execution_count": 42,
   "metadata": {},
   "outputs": [
    {
     "name": "stdout",
     "output_type": "stream",
     "text": [
      "[3, 8, 1, 2, 4, 8, 3, 1, 0, 1, 4, 1, 9, 8, 4, 9, 9, 1, 0, 0, 0, 7, 5, 9, 4, 3, 8, 4, 6, 8, 3, 6, 3, 1, 1, 6, 1, 6, 0, 9, 3, 7, 7, 9, 9, 3, 1, 5, 5, 8, 4, 4, 1, 8, 4, 7, 1, 8, 3, 9, 5, 6, 4, 2, 4, 2, 3, 0, 3, 6, 7, 2, 3, 6, 3, 6, 4, 5, 7, 4, 3, 3, 3, 1, 2, 0, 6, 1, 1, 6, 2, 2, 1, 7, 6, 9, 1, 1, 0, 9]\n"
     ]
    }
   ],
   "source": [
    "print (ls)"
   ]
  },
  {
   "cell_type": "markdown",
   "metadata": {},
   "source": [
    "* **Cuántos números hay?**"
   ]
  },
  {
   "cell_type": "code",
   "execution_count": 43,
   "metadata": {},
   "outputs": [
    {
     "name": "stdout",
     "output_type": "stream",
     "text": [
      "100\n"
     ]
    }
   ],
   "source": [
    "print (len(ls))"
   ]
  },
  {
   "cell_type": "markdown",
   "metadata": {},
   "source": [
    "* **Cuántas veces aparece el número 3**"
   ]
  },
  {
   "cell_type": "code",
   "execution_count": 46,
   "metadata": {},
   "outputs": [
    {
     "name": "stdout",
     "output_type": "stream",
     "text": [
      "15\n"
     ]
    }
   ],
   "source": [
    "print (ls.count (3))"
   ]
  },
  {
   "cell_type": "markdown",
   "metadata": {},
   "source": [
    "* **Cuántas veces aparecen los números 3 y 4**"
   ]
  },
  {
   "cell_type": "code",
   "execution_count": 47,
   "metadata": {},
   "outputs": [
    {
     "name": "stdout",
     "output_type": "stream",
     "text": [
      "27\n"
     ]
    }
   ],
   "source": [
    "print (ls.count (3) + ls.count (4))"
   ]
  },
  {
   "cell_type": "markdown",
   "metadata": {},
   "source": [
    "* **Cuál es el número más grande?**"
   ]
  },
  {
   "cell_type": "code",
   "execution_count": 48,
   "metadata": {},
   "outputs": [
    {
     "data": {
      "text/plain": [
       "9"
      ]
     },
     "execution_count": 48,
     "metadata": {},
     "output_type": "execute_result"
    }
   ],
   "source": [
    "print (max (ls))"
   ]
  },
  {
   "cell_type": "markdown",
   "metadata": {},
   "source": [
    "* **Cuáles son los 3 números más pequeños?**"
   ]
  },
  {
   "cell_type": "code",
   "execution_count": 57,
   "metadata": {},
   "outputs": [
    {
     "name": "stdout",
     "output_type": "stream",
     "text": [
      "[0, 0, 0]\n"
     ]
    }
   ],
   "source": [
    "ls.sort()\n",
    "print (ls[0:3])"
   ]
  },
  {
   "cell_type": "markdown",
   "metadata": {},
   "source": [
    "* **Cuál es el rango de la lista?**"
   ]
  },
  {
   "cell_type": "code",
   "execution_count": 115,
   "metadata": {},
   "outputs": [
    {
     "name": "stdout",
     "output_type": "stream",
     "text": [
      "0 - 9\n"
     ]
    }
   ],
   "source": [
    "print (ls [0] , \"-\", ls [-1])"
   ]
  },
  {
   "cell_type": "markdown",
   "metadata": {},
   "source": [
    "### Ejercicio 4\n",
    "crea un diccionario de la siguiente forma y responde a las preguntas:\n",
    "compra = { \"Pomes\" : {\"Qty\": 5, \"€\": 0.42}, \"Peres\" : {\"Qty\": 3, \"€\": 0.66} }"
   ]
  },
  {
   "cell_type": "code",
   "execution_count": 61,
   "metadata": {},
   "outputs": [
    {
     "name": "stdout",
     "output_type": "stream",
     "text": [
      "{'Pomes': {'Qty': 5, '€': 0.42}, 'Peres': {'Qty': 3, '€': 0.66}}\n"
     ]
    }
   ],
   "source": [
    "compra = {\n",
    "    \"Pomes\":{\"Qty\":5,\n",
    "             \"€\":0.42\n",
    "            }, \n",
    "    \"Peres\":{\"Qty\":3, \n",
    "             \"€\":0.66\n",
    "            }\n",
    "}\n",
    "print (compra)"
   ]
  },
  {
   "cell_type": "markdown",
   "metadata": {},
   "source": [
    "* **Añade alguna fruta más**"
   ]
  },
  {
   "cell_type": "code",
   "execution_count": 62,
   "metadata": {},
   "outputs": [
    {
     "name": "stdout",
     "output_type": "stream",
     "text": [
      "{'Pomes': {'Qty': 5, '€': 0.42}, 'Peres': {'Qty': 3, '€': 0.66}, 'Mandarina': {'Qty': 10, '€': 0.39}}\n"
     ]
    }
   ],
   "source": [
    "compra[\"Mandarina\"] = {\n",
    "                \"Qty\":10,\n",
    "                \"€\":0.39\n",
    "}\n",
    "print (compra)"
   ]
  },
  {
   "cell_type": "markdown",
   "metadata": {},
   "source": [
    "* **Cuánto han costado las peras en total?**"
   ]
  },
  {
   "cell_type": "code",
   "execution_count": 74,
   "metadata": {},
   "outputs": [
    {
     "name": "stdout",
     "output_type": "stream",
     "text": [
      "1.98\n"
     ]
    }
   ],
   "source": [
    "print(compra [\"Peres\"][\"Qty\"] * compra[\"Peres\"][\"€\"])"
   ]
  },
  {
   "cell_type": "markdown",
   "metadata": {},
   "source": [
    "* **Cuántas frutas hemos comprado en total?**"
   ]
  },
  {
   "cell_type": "code",
   "execution_count": 97,
   "metadata": {},
   "outputs": [
    {
     "name": "stdout",
     "output_type": "stream",
     "text": [
      "18\n"
     ]
    }
   ],
   "source": [
    "# Suma de todas las frutas, incluyendo las mandarinas que he añadido\n",
    "a = 0\n",
    "for i in compra.keys():\n",
    "    a += compra[i][\"Qty\"]\n",
    "print (a)"
   ]
  },
  {
   "cell_type": "markdown",
   "metadata": {},
   "source": [
    "* **Cuál es la fruta más cara?**"
   ]
  },
  {
   "cell_type": "code",
   "execution_count": 113,
   "metadata": {},
   "outputs": [
    {
     "name": "stdout",
     "output_type": "stream",
     "text": [
      "Peres\n"
     ]
    }
   ],
   "source": [
    "p = float(0)\n",
    "\n",
    "for i in compra.keys():\n",
    "    if compra[i][\"€\"] > p:\n",
    "        p = compra[i][\"€\"]\n",
    "        mas_cara = i\n",
    "    \n",
    "print(mas_cara)"
   ]
  }
 ],
 "metadata": {
  "kernelspec": {
   "display_name": "Python 3",
   "language": "python",
   "name": "python3"
  },
  "language_info": {
   "codemirror_mode": {
    "name": "ipython",
    "version": 3
   },
   "file_extension": ".py",
   "mimetype": "text/x-python",
   "name": "python",
   "nbconvert_exporter": "python",
   "pygments_lexer": "ipython3",
   "version": "3.8.5"
  }
 },
 "nbformat": 4,
 "nbformat_minor": 4
}
